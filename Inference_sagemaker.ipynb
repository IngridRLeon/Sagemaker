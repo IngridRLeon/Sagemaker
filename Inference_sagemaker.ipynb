{
 "cells": [
  {
   "cell_type": "code",
   "execution_count": 2,
   "id": "db1b9d94",
   "metadata": {},
   "outputs": [],
   "source": [
    "import pickle\n",
    "from pyspark.sql import SparkSession\n",
    "from pyspark.sql.functions import monotonically_increasing_id\n",
    "from pyspark.ml.feature import StringIndexer, OneHotEncoder, VectorAssembler\n",
    "from pyspark.sql.functions import col\n",
    "from pyspark.ml import PipelineModel"
   ]
  },
  {
   "cell_type": "code",
   "execution_count": 4,
   "id": "54980363",
   "metadata": {},
   "outputs": [],
   "source": [
    "def preprocess_data(input_df, categorical_column):\n",
    "    \n",
    "    #Selecting the features that we will be using in our model\n",
    "    selected_columns = [\"id\",\"type\",\"amount\", \"oldbalanceorg\", \"newbalanceorig\", \"oldbalancedest\", \"newbalancedest\", \"isfraud\"]\n",
    "    df_new = input_df.select(*selected_columns)\n",
    "    #df_new.show()\n",
    "    \n",
    "    # Step 1: StringIndexer to convert categorical values to numerical indices\n",
    "    indexer = StringIndexer(inputCol=categorical_column, outputCol=\"categoryIndex\")\n",
    "    \n",
    "    # Fit and transform the indexer on your DataFrame\n",
    "    indexed_df = indexer.fit(df_new).transform(df_new)\n",
    "\n",
    "    # Step 2: OneHotEncoder to perform one-hot encoding\n",
    "    encoder = OneHotEncoder(inputCol=\"categoryIndex\", outputCol=\"encoded_\" + categorical_column)\n",
    "    \n",
    "    # Fit and transform the encoder on your DataFrame\n",
    "    encoded_df = encoder.transform(indexed_df)\n",
    "    \n",
    "    # Drop unnecessary columns\n",
    "    encoded_df = encoded_df.drop(categorical_column)\n",
    "    encoded_df = encoded_df.drop(\"categoryIndex\")\n",
    "    \n",
    "    # Define the feature columns (excluding the target column \"isfraud\")\n",
    "    feature_columns = [col for col in encoded_df.columns if col != \"isfraud\"]\n",
    "    \n",
    "    # Assemble feature vector\n",
    "    assembler = VectorAssembler(inputCols=feature_columns, outputCol=\"features\")\n",
    "    assembled_df = assembler.transform(encoded_df)\n",
    "\n",
    "    return assembled_df"
   ]
  },
  {
   "cell_type": "code",
   "execution_count": 5,
   "id": "bf6051f4",
   "metadata": {},
   "outputs": [],
   "source": [
    "def create_predictions_table(spark, predictions):\n",
    "    result_df = predictions.select(\"id\", \"isfraud\", col(\"prediction\").cast(\"int\").alias(\"prediction\"))\n",
    "    #result_df.write.mode(\"overwrite\").saveAsTable(table_name)\n",
    "    return result_df"
   ]
  },
  {
   "cell_type": "code",
   "execution_count": null,
   "id": "0bf415cf",
   "metadata": {},
   "outputs": [],
   "source": [
    "def save_predictions_to_hive(predictions, database_name, table_name, spark):\n",
    "    \n",
    "    # Select the required columns and cast \"prediction\" as an integer\n",
    "    result_df = predictions.select(\"id\", \"isfraud\", predictions[\"prediction\"].cast(\"int\"))\n",
    "\n",
    "    # Create a temporary view for the DataFrame\n",
    "    result_df.createOrReplaceTempView(\"temp_table\")\n",
    "    \n",
    "    # Use the specified database\n",
    "    spark.sql(f\"USE {database_name}\")\n",
    "\n",
    "    # Create or replace the Hive table with explicit column definitions\n",
    "    spark.sql(f\"\"\"\n",
    "        CREATE TABLE IF NOT EXISTS {table_name} (\n",
    "            id INT,\n",
    "            actua_values INT,\n",
    "            predictions INT\n",
    "        )\n",
    "    \"\"\")\n",
    "    \n",
    "    # Insert the data into the Hive table (use INSERT OVERWRITE if needed)\n",
    "    spark.sql(f\"INSERT INTO {table_name} SELECT * FROM temp_table\")\n",
    "\n",
    "    print(f\"Table '{table_name}' created successfully with predictions.\")"
   ]
  },
  {
   "cell_type": "code",
   "execution_count": 18,
   "id": "a759bd1a",
   "metadata": {},
   "outputs": [
    {
     "name": "stdout",
     "output_type": "stream",
     "text": [
      "\n"
     ]
    }
   ],
   "source": [
    "# DATA FROM KAFKA\n",
    "df_predict = spark.sql(\"SELECT * FROM fraud_project.lastapifraud\")\n",
    "categorical_column = \"type\""
   ]
  },
  {
   "cell_type": "code",
   "execution_count": null,
   "id": "d1c481b6",
   "metadata": {},
   "outputs": [],
   "source": [
    "# PREPROCESSING INCOMING DATA\n",
    "preprocessed_df = preprocess_data(df_predict, categorical_column)"
   ]
  },
  {
   "cell_type": "code",
   "execution_count": null,
   "id": "65e21e88",
   "metadata": {},
   "outputs": [],
   "source": [
    "# PREDICTIONS\n",
    "predictions = model2.transform(preprocessed_df)\n",
    "predictions.printSchema()"
   ]
  },
  {
   "cell_type": "code",
   "execution_count": null,
   "id": "127fdf2b",
   "metadata": {},
   "outputs": [],
   "source": [
    "# Create Predictions Table\n",
    "result_table = create_predictions_table(spark, predictions)\n",
    "\n",
    "# Show the resulting DataFrame if needed\n",
    "result_table.show()"
   ]
  },
  {
   "cell_type": "code",
   "execution_count": null,
   "id": "4181963b",
   "metadata": {},
   "outputs": [],
   "source": [
    "#Amount of columns and rows\n",
    "num_columns = len(result_table.columns)\n",
    "num_rows= result_table.count()\n",
    "print(f\"Total Amount of Rows: {num_rows}\")"
   ]
  },
  {
   "cell_type": "code",
   "execution_count": null,
   "id": "472ab500",
   "metadata": {},
   "outputs": [],
   "source": [
    "#SAving PREDICTIONS TO HIVE\n",
    "database_name = \"fraud_project\"\n",
    "table_name = \"predictions_table\"\n",
    "save_predictions_to_hive(predictions, database_name, table_name, spark)"
   ]
  }
 ],
 "metadata": {
  "kernelspec": {
   "display_name": "Python 3",
   "language": "python",
   "name": "python3"
  },
  "language_info": {
   "codemirror_mode": {
    "name": "ipython",
    "version": 3
   },
   "file_extension": ".py",
   "mimetype": "text/x-python",
   "name": "python",
   "nbconvert_exporter": "python",
   "pygments_lexer": "ipython3",
   "version": "3.6.8"
  }
 },
 "nbformat": 4,
 "nbformat_minor": 5
}
